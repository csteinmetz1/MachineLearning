{
 "cells": [
  {
   "cell_type": "markdown",
   "metadata": {},
   "source": [
    "**Christian Steinmetz**\n",
    "\n",
    "Due on October 30th\n",
    "\n",
    "In this task we will focus on a training set only. Consider the datasets in:\n",
    "http://www.csie.ntu.edu.tw/~cjlin/libsvmtools/datasets/\n"
   ]
  },
  {
   "cell_type": "code",
   "execution_count": 1,
   "metadata": {},
   "outputs": [],
   "source": [
    "import numpy as np\n",
    "import matplotlib.pyplot as plt\n",
    "import matplotlib as mpl\n",
    "mpl.rcParams['figure.dpi'] = 150\n",
    "%config InlineBackend.figure_format = 'retina'"
   ]
  },
  {
   "cell_type": "markdown",
   "metadata": {},
   "source": [
    "# Regression Task\n",
    "Choose a regression dataset and apply linear regression on a random subset of the training set of increasing size. You should select training sets that include more and more data points."
   ]
  },
  {
   "cell_type": "markdown",
   "metadata": {},
   "source": [
    "1. Plot the approximation error (square loss) on the training set as a function\n",
    "of the number of samples N, i.e., data points in the training set. \n",
    "\n"
   ]
  },
  {
   "cell_type": "markdown",
   "metadata": {},
   "source": [
    "2. Plot the cpu-time as a function of N."
   ]
  },
  {
   "cell_type": "markdown",
   "metadata": {},
   "source": [
    "3. Explain in detail the behaviour of both curves: what is the trend you observe? does it stabilize? why?"
   ]
  },
  {
   "cell_type": "markdown",
   "metadata": {},
   "source": [
    "4. Explore how the learned weights change as a function of N. For this, you can make separate stem plots for several values of N. Can you find an interpretation for the learned weights?"
   ]
  },
  {
   "cell_type": "markdown",
   "metadata": {},
   "source": [
    "# Classification Task\n",
    "\n",
    "Choose a classification dataset and apply logistic regression. Repeat the previous four steps using as error the mean accuracy.\n"
   ]
  },
  {
   "cell_type": "markdown",
   "metadata": {},
   "source": [
    "# Remarks\n",
    "- Feel free to use your favourite software. We recommend Python.\n",
    "- You can obtain smoother curves by averaging over several permutations of\n",
    "the dataset. Ideally you could also plot the variance, not only the mean.\n",
    "- Check that your results are in agreement with the theory.\n",
    "- Submit the report (pdf) with the answers and the code separately.\n",
    "- Useful links:\n",
    "    - http://scikit-learn.org/stable/user_guide.html \n",
    "    - http://jupyter.org/ \n",
    "    - https://twitter.com/zacharylipton/status/1167298276686589953lang=en\n"
   ]
  }
 ],
 "metadata": {
  "kernelspec": {
   "display_name": "Python 3",
   "language": "python",
   "name": "python3"
  },
  "language_info": {
   "codemirror_mode": {
    "name": "ipython",
    "version": 3
   },
   "file_extension": ".py",
   "mimetype": "text/x-python",
   "name": "python",
   "nbconvert_exporter": "python",
   "pygments_lexer": "ipython3",
   "version": "3.7.3"
  }
 },
 "nbformat": 4,
 "nbformat_minor": 2
}
